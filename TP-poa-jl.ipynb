{
 "cells": [
  {
   "cell_type": "markdown",
   "metadata": {},
   "source": [
    "# TP Braess Paradox and Price of Anarchy"
   ]
  },
  {
   "cell_type": "code",
   "execution_count": 1,
   "metadata": {
    "collapsed": true
   },
   "outputs": [],
   "source": [
    "# Run this cell and start to work while its compiling (will take some time)\n",
    "using LightGraphs, MetaGraphs # Graph Libraries\n",
    "using JuMP, Ipopt             # Optim Libraries\n",
    "using PyPlot                  # Plot library"
   ]
  },
  {
   "cell_type": "markdown",
   "metadata": {},
   "source": [
    "## 1 Recall on the user-equilibrium and the social-optimum\n",
    "\n",
    "Consider a (finite) directed graph $G=(V,E)$. We consider \n",
    "$K$ origin-destination vertex pair $\\{o^k,d^k\\}_{k\\in [1,K]}$. \n",
    "\n",
    "Let denotes by\n",
    "+ $r^k$ the intensity of the flow of user entering in $o^k$ and exiting in \n",
    "$d^k$;\n",
    "+ $\\mathcal{P}_k$ the set of all simple (i.e. \n",
    "without cycle) path form $o^k$ to $d^k$, and by $\\mathcal{P}=\\bigcup_{k=1}^K \n",
    "\\mathcal{P}_k$;\n",
    "+ $f_p$ the flux of user taking path $p \\in \\mathcal{P}$;\n",
    "+ $f = \\{f_p\\}_{p\\in\\mathcal{P}}$ the vector of path-flux;\n",
    "+ $x_e$ the flux of user taking the edge $e \\in E$;\n",
    "+ $x=\\{x_e\\}_{e\\in E}$ the vector of edge-flux;\n",
    "+ $\\ell_e : \\mathbb{R} \\to \\mathbb{R}^+$ the cost incurred by a given user \n",
    "to take edge \n",
    "$e$;\n",
    "+ $L_e(x_e) := \\int_0^{x_e}\\ell_e(u)du$."
   ]
  },
  {
   "cell_type": "markdown",
   "metadata": {},
   "source": [
    "Minimizing the total cost of the system is an optimization problem that reads\n",
    "\n",
    "\n",
    "\\begin{align}\n",
    "(P^{SO}) \\quad \\min_{x,f} \\quad & \\sum_{e\\in E} x_e \\ell_e(x_e) \\\\\n",
    " s.t. \\quad & r_k = \\sum_{p\\in\\mathcal{P}_k}f_p & k = 1..K \n",
    "\\label{cst:flux-spread}\\\\\n",
    " & x_e = \\sum_{p \\ni e} f_p & e \\in E \\label{cst:xa-def}\\\\\n",
    " & f_p \\geq 0 & p \\in \\mathcal{P}\n",
    "\\end{align}\n",
    "\n",
    "Where the first constraint ensure that the flux going from $o^k$ \n",
    "to $d^k$ is spread among the different possible paths \n",
    "and the second constraint is the definition of $x_a$ as the sum of the \n",
    "users taking the different path containing arc $a$."
   ]
  },
  {
   "cell_type": "markdown",
   "metadata": {},
   "source": [
    "Recall that if $\\ell_e$ is non-decreasing we can guarantee that $f$ is a user \n",
    "equilibrium (cf course) if and only if it is a solution of\n",
    "\n",
    "\\begin{align}\n",
    "(P^{UE})  \\min_{x,f} \\quad & \\sum_{e\\in E}L_e(x_e) \\\\\n",
    " s.t. \\quad & r_k = \\sum_{p\\in\\mathcal{P}_k}f_p & k \\in 1..K\\\\\n",
    " & x_e = \\sum_{p \\ni e} f_p & e \\in E \\\\\n",
    " & f_p \\geq 0 & p \\in \\mathcal{P}\n",
    "\\end{align}\n",
    "where the only difference with $(P^{SO})$ is the \n",
    "objective function."
   ]
  },
  {
   "cell_type": "markdown",
   "metadata": {},
   "source": [
    "### Question 1 \n",
    "Prove that if for all edge $\\ell_e$ is constant then social optimum and \n",
    "user-equilibrium are equivalent."
   ]
  },
  {
   "cell_type": "code",
   "execution_count": null,
   "metadata": {
    "collapsed": true
   },
   "outputs": [],
   "source": []
  },
  {
   "cell_type": "markdown",
   "metadata": {},
   "source": [
    "## 2 Reformulating the problem\n",
    "\n",
    "A complete graph $(V,E)$ is a graph such that for all couple of vertices\n",
    "$(v_1,v_2)$ there exists an edge with origin $v_1$ and destination $v_2$.\n",
    "\n",
    "### Question 2\n",
    "\n",
    "Consider a complete directed graph of $n$ nodes with $1$ origin and $1$ \n",
    "destination. What is the dimension of the vector $f$ ? of $x$ ? So how many \n",
    "variables and constraints (except positivity constraints) is there for the user \n",
    "equilibrium (or the social optimum) problem ?"
   ]
  },
  {
   "cell_type": "code",
   "execution_count": null,
   "metadata": {
    "collapsed": true
   },
   "outputs": [],
   "source": []
  },
  {
   "cell_type": "markdown",
   "metadata": {},
   "source": [
    "### Question 3\n",
    "\n",
    "Rewrite both $(P^{(SO)})$ and $(P^{(UE)})$ using only vector $f$."
   ]
  },
  {
   "cell_type": "code",
   "execution_count": null,
   "metadata": {
    "collapsed": true
   },
   "outputs": [],
   "source": []
  },
  {
   "cell_type": "markdown",
   "metadata": {},
   "source": [
    "### Question 4\n",
    "\n",
    "Assuming that there is only one origin and destination (i.e. $K=1$)\n",
    " Rewrite both problems using only vector $x$."
   ]
  },
  {
   "cell_type": "code",
   "execution_count": null,
   "metadata": {
    "collapsed": true
   },
   "outputs": [],
   "source": []
  },
  {
   "cell_type": "markdown",
   "metadata": {},
   "source": [
    "### Question 5\n",
    "\n",
    "Let $N$ be the incidence matrix of the graph $G = (V, E)$. \n",
    "Such matrix has $|V|$ lines and $|E|$ columns.\n",
    "\n",
    "For all node $i \\in V$, edge $j \\in E$, we have \n",
    "+ $N_{ij} = -1$ if node $i$ is the origin of edge $j$\n",
    "+ $N_{ij} = 1$ if node $i$ is the destination of edge $j$\n",
    "+ $N_{ij} = 0$ otherwise\n",
    "\n",
    "Thus each column of $N$ corresponds to an edge and each line to a node.\n",
    "\n",
    "If $K=1$, what is the interpretation of each coordinate of the vector $Nx$ ? \n",
    "Deduce a more condensed presentation of both problems using only vector $x$."
   ]
  },
  {
   "cell_type": "code",
   "execution_count": null,
   "metadata": {
    "collapsed": true
   },
   "outputs": [],
   "source": []
  },
  {
   "cell_type": "markdown",
   "metadata": {},
   "source": [
    "## Setting up the optimization problem in Julia\n",
    "\n",
    "\n",
    "We are going to install some package that are required for the practical session. If running on JuliaBox you should install through its interface directly."
   ]
  },
  {
   "cell_type": "code",
   "execution_count": null,
   "metadata": {
    "collapsed": true
   },
   "outputs": [],
   "source": [
    "#Pkg.add(\"MetaGraphs\") # Should be done directly on JuliaBox\n",
    "#Pkg.add(\"LightGraphs\")\n",
    "#Pkg.add(\"JuMP\")\n",
    "#Pkg.add(\"Ipopt\")\n",
    "#Pkg.add(\"PyPlot\")"
   ]
  },
  {
   "cell_type": "markdown",
   "metadata": {},
   "source": [
    "We now set up the graph we want to study, which is the classical Braess example."
   ]
  },
  {
   "cell_type": "code",
   "execution_count": null,
   "metadata": {
    "collapsed": true
   },
   "outputs": [],
   "source": [
    "# Constructing a Directed Graph (with Meta-data) with 4 nodes\n",
    "G = MetaDiGraph(4)\n",
    "\n",
    "# setting the input / output flux\n",
    "set_props!(G,1,Dict(:io=>-1,:x=>0,:y=>0)) # incoming flux of intensity 1 \n",
    "set_props!(G,2,Dict(:io=>0,:x=>1,:y=>1))\n",
    "set_props!(G,3,Dict(:io=>0,:x=>1,:y=>-1))\n",
    "set_props!(G,4,Dict(:io=>1,:x=>2,:y=>0)) # outgoing flux of intensity 1\n",
    "\n",
    "# adding edges with attached metadata\n",
    "add_edge!(G, 1, 2,Dict(:a=>1., :b => 0, :idx => 1)) # the cost of edge 1 -> 2 is a x + b = x \n",
    "add_edge!(G, 1, 3,Dict(:a=>0, :b => 1., :idx => 2)) #idx stands for the index corresponding to the edge-flow in the x vector\n",
    "add_edge!(G, 2, 4,Dict(:a=>0, :b => 1., :idx => 3))\n",
    "add_edge!(G, 3, 4,Dict(:a=>1., :b => 0, :idx => 4))\n"
   ]
  },
  {
   "cell_type": "code",
   "execution_count": null,
   "metadata": {
    "collapsed": true
   },
   "outputs": [],
   "source": [
    "#This function represent a Graph\n",
    "function plot_graph(G,plot_edges = false, plot_vertices = false)\n",
    "    posx = zeros(nv(G))\n",
    "    posy = zeros(nv(G))\n",
    "    for v in 1:nv(G)\n",
    "        posx[v] = get_prop(G,v,:x)\n",
    "        posy[v] = get_prop(G,v,:y)\n",
    "        if plot_vertices\n",
    "            text(posx[v],posy[v],v)\n",
    "        end\n",
    "    end\n",
    "    scatter(posx, posy, s=50) # plotting edges\n",
    "    \n",
    "    for e in edges(G) #edge s -> t\n",
    "        x_s,y_s = posx[src(e)], posy[src(e)]\n",
    "        x_t,y_t = posx[dst(e)], posy[dst(e)]\n",
    "        arrow(x_s, y_s, x_t - x_s, y_t - y_s,\n",
    "            head_width=0.05, length_includes_head=true)\n",
    "        if plot_edges\n",
    "            δ_x, δ_y = 0.05.*(y_s-y_t , x_t - x_s)\n",
    "            text(0.5*x_s+0.5*x_t + δ_x, 0.5*y_s+0.5*y_t + δ_y, get_prop(G,e,:idx)) # edges number\n",
    "        end\n",
    "    end\n",
    "end\n",
    "plot_graph(G,true,true)"
   ]
  },
  {
   "cell_type": "code",
   "execution_count": null,
   "metadata": {
    "collapsed": true
   },
   "outputs": [],
   "source": [
    "# Matrix representation of conservation law :: Nx = io\n",
    "io = [get_prop(G,i,:io) for i=1:nv(G)]\n",
    "\n",
    "N = zeros(Int,(nv(G),ne(G)))\n",
    "for e in edges(G)\n",
    "    j = get_prop(G,e,:idx)\n",
    "    N[src(e),j] = -1 \n",
    "    N[dst(e),j] = 1\n",
    "end"
   ]
  },
  {
   "cell_type": "markdown",
   "metadata": {},
   "source": [
    "## Computing the price of anarchy\n",
    "\n",
    "Define $C(x)=\\sum_{e\\in E}x_e \\ell_e(x_e)$ the price associated with the \n",
    "admissible flux $x$. We denote by $x^{UE}$ the user equilibrium, and $x^{SO}$\n",
    "the social optimum. The price of anarchy is by definition \n",
    "$$PoA = \\frac{C(x^{UE})}{C(x^{SO})} \\geq 1 .$$"
   ]
  },
  {
   "cell_type": "code",
   "execution_count": null,
   "metadata": {
    "collapsed": true
   },
   "outputs": [],
   "source": [
    "### Computing Social Optimum for graph G\n",
    "function SO(G,display = false)\n",
    "    # Setting up the optimization model\n",
    "    m_so = Model(solver=IpoptSolver(print_level=0))\n",
    "    @variable(m_so,x_so[1:ne(G)] >= 0)    # (non-negative) arc-intensity\n",
    "    @variable(m_so,cost_so[1:ne(G)]) # cost by edge\n",
    "    @constraint(m_so,N*x_so .== io)       # Conservation law\n",
    "    \n",
    "\n",
    "    # Defining social optimum cost \n",
    "    for e in edges(G)\n",
    "        idx = get_prop(G,e,:idx)   # getting index of edge \n",
    "        a = get_prop(G,e,:a)       # get coefficient a of the cost function\n",
    "        b = get_prop(G,e,:b)       # get coefficient b of the cost function\n",
    "        @NLconstraint(m_so,cost_so[idx] == a*x_so[idx]^2 + b*x_so[idx]) \n",
    "    end\n",
    "    @NLobjective(m_so,Min,sum(cost_so[idx] for idx=1:ne(G)))\n",
    "\n",
    "    # Solving the optimisation problem\n",
    "    solve(m_so)\n",
    "     \n",
    "    if display\n",
    "        # Printing the computed intensity on all edges\n",
    "        for e in edges(G)\n",
    "            print(e)\n",
    "            print(\" has intensity \")\n",
    "            println(round(getvalue(x_so[get_prop(G,e,:idx)]),2))\n",
    "        end\n",
    "    end\n",
    "    \n",
    "    return getobjectivevalue(m_so)  # return the total cost of the social optimum\n",
    "end\n",
    "SO(G)"
   ]
  },
  {
   "cell_type": "markdown",
   "metadata": {},
   "source": [
    "### Question 6\n",
    "\n",
    "From the function computing the social optimum, define a function computing the user equilibrium. \n",
    "\n",
    "Deduce the price of anarchy of this network. Comment the solution."
   ]
  },
  {
   "cell_type": "code",
   "execution_count": null,
   "metadata": {
    "collapsed": true
   },
   "outputs": [],
   "source": []
  },
  {
   "cell_type": "markdown",
   "metadata": {},
   "source": [
    "### Question 7\n",
    "\n",
    "Add one edge form node $1$ to $2$ with null cost. Compute the price of anarchy.\n",
    "\n",
    "Add one edge form node $2$ to $1$ with null cost. Compute the price of anarchy.\n",
    "\n",
    "Add both edges. Compute the price of anarchy.\n",
    "\n",
    "Look at obtained intensities, and comment the result."
   ]
  },
  {
   "cell_type": "code",
   "execution_count": null,
   "metadata": {
    "collapsed": true
   },
   "outputs": [],
   "source": []
  },
  {
   "cell_type": "markdown",
   "metadata": {},
   "source": [
    "### Question 8\n",
    "\n",
    "In the previous graph modify the constant cost functions equal to $1$\n",
    "into cost of the form $1+0.5x$. What do you observe on optimal solutions\n",
    "$x^{UE}$ and $x^{S0}$ ? Comment."
   ]
  },
  {
   "cell_type": "code",
   "execution_count": null,
   "metadata": {
    "collapsed": true
   },
   "outputs": [],
   "source": []
  },
  {
   "cell_type": "markdown",
   "metadata": {},
   "source": [
    "### Question 9\n",
    "\n",
    "Choose random affine latency on each edge, the coefficients being chosen uniformly on\n",
    "$[0,1]$ (using rand()). Plot an histogram of the price of anarchy over\n",
    "$100$ realization. What result from the course do we observe ?"
   ]
  },
  {
   "cell_type": "code",
   "execution_count": null,
   "metadata": {
    "collapsed": true
   },
   "outputs": [],
   "source": [
    "# Plotting an histogram\n",
    "x = vec(1:100)\n",
    "y = rand(100)\n",
    "PyPlot.plt[:hist](y, bins=20, edgecolor=\"k\");"
   ]
  },
  {
   "cell_type": "markdown",
   "metadata": {},
   "source": [
    "### Question 10\n",
    "\n",
    "Adapt the code such that each edge has now a cost function of the form\n",
    "$\\ell_e(x_e) = t_e(1+0.15*(x_e/c_e)^4)$.\n",
    "\n",
    " Plot an histogram of the price of anarchy over $100$ realization of $t_e$ and $c_e$. Comment."
   ]
  },
  {
   "cell_type": "code",
   "execution_count": null,
   "metadata": {
    "collapsed": true
   },
   "outputs": [],
   "source": []
  },
  {
   "cell_type": "markdown",
   "metadata": {},
   "source": [
    "## More complex graphs\n",
    "\n",
    "### Question 11\n",
    "\n",
    "Construct a graph with $6$ nodes. Define linear costs on each arc. \n",
    "Compute the price of anarchy."
   ]
  },
  {
   "cell_type": "code",
   "execution_count": null,
   "metadata": {
    "collapsed": true
   },
   "outputs": [],
   "source": []
  },
  {
   "cell_type": "markdown",
   "metadata": {},
   "source": [
    "### Question 12 \n",
    "\n",
    "On your new graph test if it is possible to add an arc with null cost\n",
    "that increase the cost of the user equilibrium."
   ]
  },
  {
   "cell_type": "code",
   "execution_count": null,
   "metadata": {
    "collapsed": true
   },
   "outputs": [],
   "source": []
  },
  {
   "cell_type": "markdown",
   "metadata": {},
   "source": [
    "### Question 13\n",
    "\n",
    "By introducing edge-flux variables $x^1$ and $x^2$ rewrite\n",
    "the user equilibrium and social optimum problems in the case\n",
    "where $K=2$. \n",
    "\n",
    "Construct an example on your previous graph and compute the price\n",
    "of anarchy."
   ]
  },
  {
   "cell_type": "code",
   "execution_count": null,
   "metadata": {
    "collapsed": true
   },
   "outputs": [],
   "source": []
  }
 ],
 "metadata": {
  "kernelspec": {
   "display_name": "Julia 0.6.1",
   "language": "julia",
   "name": "julia-0.6"
  },
  "language_info": {
   "file_extension": ".jl",
   "mimetype": "application/julia",
   "name": "julia",
   "version": "0.6.1"
  }
 },
 "nbformat": 4,
 "nbformat_minor": 2
}
